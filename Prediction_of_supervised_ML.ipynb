{
  "nbformat": 4,
  "nbformat_minor": 0,
  "metadata": {
    "colab": {
      "name": "Prediction of supervised ML.ipynb",
      "provenance": []
    },
    "kernelspec": {
      "name": "python3",
      "display_name": "Python 3"
    },
    "language_info": {
      "name": "python"
    }
  },
  "cells": [
    {
      "cell_type": "markdown",
      "metadata": {
        "id": "cynmcYMvR5D-"
      },
      "source": [
        "## Prediction using supervised\n",
        "\n",
        "\n",
        "1.   Predict the percentage of an student based on the no. of study hours.\n",
        "2.   This is a simple linear regression task as it involves just 2 variables.\n",
        "\n"
      ]
    },
    {
      "cell_type": "code",
      "metadata": {
        "id": "nlziGQvL3Ltc"
      },
      "source": [
        "import pandas as pd\n",
        "import numpy as np\n",
        "import sklearn\n",
        "import matplotlib.pyplot as plt"
      ],
      "execution_count": null,
      "outputs": []
    },
    {
      "cell_type": "markdown",
      "metadata": {
        "id": "GG968cubSUkv"
      },
      "source": [
        "##Read the data:\n",
        "\n",
        "\n",
        "*   using read_csv in pandas and store it in a variable to analyze it\n",
        "\n",
        "\n"
      ]
    },
    {
      "cell_type": "code",
      "metadata": {
        "colab": {
          "base_uri": "https://localhost:8080/",
          "height": 223
        },
        "id": "bax79oIv3XD_",
        "outputId": "e68ad68f-bba9-48d9-9654-0f30195ed287"
      },
      "source": [
        "data=pd.read_csv(\"/content/text.csv\")\n",
        "print('Data is installed successfully')\n",
        "data.head()"
      ],
      "execution_count": null,
      "outputs": [
        {
          "output_type": "stream",
          "text": [
            "Data is installed successfully\n"
          ],
          "name": "stdout"
        },
        {
          "output_type": "execute_result",
          "data": {
            "text/html": [
              "<div>\n",
              "<style scoped>\n",
              "    .dataframe tbody tr th:only-of-type {\n",
              "        vertical-align: middle;\n",
              "    }\n",
              "\n",
              "    .dataframe tbody tr th {\n",
              "        vertical-align: top;\n",
              "    }\n",
              "\n",
              "    .dataframe thead th {\n",
              "        text-align: right;\n",
              "    }\n",
              "</style>\n",
              "<table border=\"1\" class=\"dataframe\">\n",
              "  <thead>\n",
              "    <tr style=\"text-align: right;\">\n",
              "      <th></th>\n",
              "      <th>Hours</th>\n",
              "      <th>Scores</th>\n",
              "    </tr>\n",
              "  </thead>\n",
              "  <tbody>\n",
              "    <tr>\n",
              "      <th>0</th>\n",
              "      <td>2.5</td>\n",
              "      <td>21</td>\n",
              "    </tr>\n",
              "    <tr>\n",
              "      <th>1</th>\n",
              "      <td>5.1</td>\n",
              "      <td>47</td>\n",
              "    </tr>\n",
              "    <tr>\n",
              "      <th>2</th>\n",
              "      <td>3.2</td>\n",
              "      <td>27</td>\n",
              "    </tr>\n",
              "    <tr>\n",
              "      <th>3</th>\n",
              "      <td>8.5</td>\n",
              "      <td>75</td>\n",
              "    </tr>\n",
              "    <tr>\n",
              "      <th>4</th>\n",
              "      <td>3.5</td>\n",
              "      <td>30</td>\n",
              "    </tr>\n",
              "  </tbody>\n",
              "</table>\n",
              "</div>"
            ],
            "text/plain": [
              "   Hours  Scores\n",
              "0    2.5      21\n",
              "1    5.1      47\n",
              "2    3.2      27\n",
              "3    8.5      75\n",
              "4    3.5      30"
            ]
          },
          "metadata": {
            "tags": []
          },
          "execution_count": 2
        }
      ]
    },
    {
      "cell_type": "markdown",
      "metadata": {
        "id": "tEGYASbXSnUi"
      },
      "source": [
        "\n",
        "\n",
        "\n",
        "\n",
        "##Plot a graph:\n",
        "\n",
        "Now let us see how the data is present in the graph format we can do it by using matplotlib pyplot module\n",
        "\n"
      ]
    },
    {
      "cell_type": "code",
      "metadata": {
        "colab": {
          "base_uri": "https://localhost:8080/",
          "height": 295
        },
        "id": "_lz5dR-D36py",
        "outputId": "5140c102-72b5-47db-e94a-740f5a21620a"
      },
      "source": [
        "X=data.Hours\n",
        "y=data.Scores\n",
        "plt.plot(X,y,'bo')\n",
        "plt.grid()\n",
        "plt.ylabel(\"Scores\")\n",
        "plt.xlabel(\"Hours\")\n",
        "plt.title(\"prediction\")\n",
        "plt.show()"
      ],
      "execution_count": null,
      "outputs": [
        {
          "output_type": "display_data",
          "data": {
            "image/png": "[encoded data removed]",
            "text/plain": [
              "<Figure size 432x288 with 1 Axes>"
            ]
          },
          "metadata": {
            "tags": [],
            "needs_background": "light"
          }
        }
      ]
    },
    {
      "cell_type": "markdown",
      "metadata": {
        "id": "4bWZcdqG_MG6"
      },
      "source": [
        "##Split the data:\n",
        "\n",
        "prior to construct a model we need to split the data into training and testing data,we can do it by using sklearn train_test_split module"
      ]
    },
    {
      "cell_type": "code",
      "metadata": {
        "id": "9uyEaSC-45lJ"
      },
      "source": [
        "X=data.iloc[:,:-1]\n",
        "y=data.iloc[:,1]\n",
        "from sklearn.model_selection import train_test_split\n",
        "X_train,X_test,y_train,y_test=train_test_split(X,y,random_state=3,test_size=0.25)"
      ],
      "execution_count": null,
      "outputs": []
    },
    {
      "cell_type": "markdown",
      "metadata": {
        "id": "H4xjieD-_jcA"
      },
      "source": [
        "##Training a model:\n",
        "now let us construct a linear regression model"
      ]
    },
    {
      "cell_type": "code",
      "metadata": {
        "colab": {
          "base_uri": "https://localhost:8080/"
        },
        "id": "FZPK4Kt55IoD",
        "outputId": "8ddf2d93-2722-42ba-d7e9-73d92cddc7f0"
      },
      "source": [
        "from sklearn.linear_model import LinearRegression\n",
        "lr=LinearRegression()\n",
        "lr.fit(X_train,y_train)\n",
        "print(\"Training the model is done\")"
      ],
      "execution_count": null,
      "outputs": [
        {
          "output_type": "stream",
          "text": [
            "Training the model is done\n"
          ],
          "name": "stdout"
        }
      ]
    },
    {
      "cell_type": "markdown",
      "metadata": {
        "id": "w2f6sQII_s_V"
      },
      "source": [
        "##Plot the graph showing the regression line:\n",
        "now let us show the constructed regression line on the graph"
      ]
    },
    {
      "cell_type": "code",
      "metadata": {
        "colab": {
          "base_uri": "https://localhost:8080/",
          "height": 313
        },
        "id": "h8nogn455N1C",
        "outputId": "d7fa0430-713e-4fa1-efa6-80b7fabed58c"
      },
      "source": [
        "line=lr.coef_*X+lr.intercept_\n",
        "plt.plot(data.Hours,data.Scores,'bo')\n",
        "plt.grid()\n",
        "plt.plot(X,line,'g')\n",
        "plt.ylabel(\"Scores\")\n",
        "plt.xlabel(\"Hours\")\n",
        "plt.title(\"prediction\")\n",
        "plt.show()\n",
        "print(\"The equation of the linear regresion is:y={}*x+{}\".format((lr.coef_),(lr.intercept_)))"
      ],
      "execution_count": null,
      "outputs": [
        {
          "output_type": "display_data",
          "data": {
            "image/png": "[encoded data removed]",
            "text/plain": [
              "<Figure size 432x288 with 1 Axes>"
            ]
          },
          "metadata": {
            "tags": [],
            "needs_background": "light"
          }
        },
        {
          "output_type": "stream",
          "text": [
            "The equation of the linear regresion is:y=[9.68486657]*x+1.5966760299625236\n"
          ],
          "name": "stdout"
        }
      ]
    },
    {
      "cell_type": "code",
      "metadata": {
        "colab": {
          "base_uri": "https://localhost:8080/",
          "height": 313
        },
        "id": "kI5svbE-5j5o",
        "outputId": "9580c460-b91c-422b-95f9-896a0ff79daa"
      },
      "source": [
        "line=lr.coef_*X+lr.intercept_\n",
        "plt.plot(data.Hours,data.Scores,'bo')\n",
        "plt.grid()\n",
        "plt.plot(X,line,'g')\n",
        "plt.ylabel(\"Scores\")\n",
        "plt.xlabel(\"Hours\")\n",
        "plt.title(\"prediction\")\n",
        "plt.show()\n",
        "print(\"The equation of the linear regresion is:y={}*x+{}\".format((lr.coef_),(lr.intercept_)))"
      ],
      "execution_count": null,
      "outputs": [
        {
          "output_type": "display_data",
          "data": {
            "image/png": "[encoded data removed]",
            "text/plain": [
              "<Figure size 432x288 with 1 Axes>"
            ]
          },
          "metadata": {
            "tags": [],
            "needs_background": "light"
          }
        },
        {
          "output_type": "stream",
          "text": [
            "The equation of the linear regresion is:y=[9.68486657]*x+1.5966760299625236\n"
          ],
          "name": "stdout"
        }
      ]
    },
    {
      "cell_type": "markdown",
      "metadata": {
        "id": "DEdRYsKDADmM"
      },
      "source": [
        "##Prediction:"
      ]
    },
    {
      "cell_type": "code",
      "metadata": {
        "colab": {
          "base_uri": "https://localhost:8080/",
          "height": 269
        },
        "id": "j5gotMrX5qXy",
        "outputId": "fc6d12f0-4c8d-4af4-b465-bedd28e076d8"
      },
      "source": [
        "y_predicted=lr.predict(X_test)\n",
        "r=pd.DataFrame({'Actual':y_test,'Predicted':y_predicted})\n",
        "r\n"
      ],
      "execution_count": null,
      "outputs": [
        {
          "output_type": "execute_result",
          "data": {
            "text/html": [
              "<div>\n",
              "<style scoped>\n",
              "    .dataframe tbody tr th:only-of-type {\n",
              "        vertical-align: middle;\n",
              "    }\n",
              "\n",
              "    .dataframe tbody tr th {\n",
              "        vertical-align: top;\n",
              "    }\n",
              "\n",
              "    .dataframe thead th {\n",
              "        text-align: right;\n",
              "    }\n",
              "</style>\n",
              "<table border=\"1\" class=\"dataframe\">\n",
              "  <thead>\n",
              "    <tr style=\"text-align: right;\">\n",
              "      <th></th>\n",
              "      <th>Actual</th>\n",
              "      <th>Predicted</th>\n",
              "    </tr>\n",
              "  </thead>\n",
              "  <tbody>\n",
              "    <tr>\n",
              "      <th>18</th>\n",
              "      <td>67</td>\n",
              "      <td>60.674362</td>\n",
              "    </tr>\n",
              "    <tr>\n",
              "      <th>17</th>\n",
              "      <td>24</td>\n",
              "      <td>19.997923</td>\n",
              "    </tr>\n",
              "    <tr>\n",
              "      <th>12</th>\n",
              "      <td>41</td>\n",
              "      <td>45.178576</td>\n",
              "    </tr>\n",
              "    <tr>\n",
              "      <th>23</th>\n",
              "      <td>76</td>\n",
              "      <td>68.422255</td>\n",
              "    </tr>\n",
              "    <tr>\n",
              "      <th>15</th>\n",
              "      <td>95</td>\n",
              "      <td>87.791989</td>\n",
              "    </tr>\n",
              "    <tr>\n",
              "      <th>16</th>\n",
              "      <td>30</td>\n",
              "      <td>25.808842</td>\n",
              "    </tr>\n",
              "    <tr>\n",
              "      <th>13</th>\n",
              "      <td>42</td>\n",
              "      <td>33.556736</td>\n",
              "    </tr>\n",
              "  </tbody>\n",
              "</table>\n",
              "</div>"
            ],
            "text/plain": [
              "    Actual  Predicted\n",
              "18      67  60.674362\n",
              "17      24  19.997923\n",
              "12      41  45.178576\n",
              "23      76  68.422255\n",
              "15      95  87.791989\n",
              "16      30  25.808842\n",
              "13      42  33.556736"
            ]
          },
          "metadata": {
            "tags": []
          },
          "execution_count": 11
        }
      ]
    },
    {
      "cell_type": "code",
      "metadata": {
        "colab": {
          "base_uri": "https://localhost:8080/"
        },
        "id": "bMQ5lqOF5sW7",
        "outputId": "0d3cf5e7-a8c2-4269-ee08-d6309b4a8174"
      },
      "source": [
        "print(\"for 9.25 hours the student is able to score:\")\n",
        "hr=np.array(9.5)\n",
        "hr=hr.reshape(1,-1)\n",
        "res=lr.predict(hr)\n",
        "float(res)"
      ],
      "execution_count": null,
      "outputs": [
        {
          "output_type": "stream",
          "text": [
            "for 9.25 hours the student is able to score:\n"
          ],
          "name": "stdout"
        },
        {
          "output_type": "execute_result",
          "data": {
            "text/plain": [
              "93.60290847378279"
            ]
          },
          "metadata": {
            "tags": []
          },
          "execution_count": 12
        }
      ]
    },
    {
      "cell_type": "markdown",
      "metadata": {
        "id": "Hom5uKpAAMeU"
      },
      "source": [
        "##Validation of the model:\n",
        "After constucting the model it is necessary that we need to validate the model . Our model is said to be accurate if the model has least mean square error . We can calculate this with the help of sklearn metrices module"
      ]
    },
    {
      "cell_type": "code",
      "metadata": {
        "colab": {
          "base_uri": "https://localhost:8080/"
        },
        "id": "cKg5-ykk5yay",
        "outputId": "d5cba50f-1934-43f5-ead9-ae19ad9b6078"
      },
      "source": [
        "from sklearn.metrics import mean_absolute_error\n",
        "print(\"The mean square error for the model is: \")\n",
        "print(mean_absolute_error(y_test,y_predicted))"
      ],
      "execution_count": null,
      "outputs": [
        {
          "output_type": "stream",
          "text": [
            "The mean square error for the model is: \n",
            "5.989495552434456\n"
          ],
          "name": "stdout"
        }
      ]
    }
  ]
}